{
 "cells": [
  {
   "cell_type": "code",
   "execution_count": 2,
   "metadata": {},
   "outputs": [],
   "source": [
    "import scipy.io as sio\n",
    "import numpy as np\n",
    "import matplotlib.pyplot as plt"
   ]
  },
  {
   "cell_type": "code",
   "execution_count": 91,
   "metadata": {},
   "outputs": [],
   "source": [
    "file1 = sio.loadmat(r\"path_to_scene3.mat\")\n",
    "file2 = sio.loadmat(r\"path_to_scene3.mat\")"
   ]
  },
  {
   "cell_type": "code",
   "execution_count": null,
   "metadata": {},
   "outputs": [],
   "source": [
    "plt.imshow(file1[\"meas_real\"])\n",
    "plt.show()"
   ]
  },
  {
   "cell_type": "code",
   "execution_count": null,
   "metadata": {},
   "outputs": [],
   "source": [
    "import numpy as np\n",
    "import matplotlib.pyplot as plt\n",
    "\n",
    "wavelengths = np.linspace(450, 650, 28)\n",
    "\n",
    "def wavelength_to_rgb(wavelength):\n",
    "    gamma = 0.8\n",
    "    intensity_max = 255\n",
    "    factor = 0.0\n",
    "    R = G = B = 0\n",
    "\n",
    "    if 380 <= wavelength <= 440:\n",
    "        R = -(wavelength - 440) / (440 - 380)\n",
    "        G = 0.0\n",
    "        B = 1.0\n",
    "    elif 440 <= wavelength <= 490:\n",
    "        R = 0.0\n",
    "        G = (wavelength - 440) / (490 - 440)\n",
    "        B = 1.0\n",
    "    elif 490 <= wavelength <= 510:\n",
    "        R = 0.0\n",
    "        G = 1.0\n",
    "        B = -(wavelength - 510) / (510 - 490)\n",
    "    elif 510 <= wavelength <= 580:\n",
    "        R = (wavelength - 510) / (580 - 510)\n",
    "        G = 1.0\n",
    "        B = 0.0\n",
    "    elif 580 <= wavelength <= 645:\n",
    "        R = 1.0\n",
    "        G = -(wavelength - 645) / (645 - 580)\n",
    "        B = 0.0\n",
    "    elif 645 <= wavelength <= 750:\n",
    "        R = 1.0\n",
    "        G = 0.0\n",
    "        B = 0.0\n",
    "\n",
    "    if 380 <= wavelength <= 420:\n",
    "        factor = 0.3 + 0.7*(wavelength - 380) / (420 - 380)\n",
    "    elif 645 <= wavelength <= 750:\n",
    "        factor = 0.3 + 0.7*(750 - wavelength) / (750 - 645)\n",
    "    else:\n",
    "        factor = 1.0\n",
    "\n",
    "    R = intensity_max * (R * factor)**gamma if R > 0 else 0\n",
    "    G = intensity_max * (G * factor)**gamma if G > 0 else 0\n",
    "    B = intensity_max * (B * factor)**gamma if B > 0 else 0\n",
    "\n",
    "    return np.array([int(R), int(G), int(B)], dtype=np.uint8)\n",
    "\n",
    "height, width, channels = file2[\"recon\"].shape\n",
    "\n",
    "for ch in range(channels):\n",
    "    print(f'Channel {ch + 1} - Wavelength: {wavelengths[ch]:.2f} nm')\n",
    "\n",
    "    rgb_color = wavelength_to_rgb(wavelengths[ch])\n",
    "    \n",
    "    channel_data = file2[\"recon\"][:, :, ch]\n",
    "    normalized_data = (channel_data - channel_data.min()) / (channel_data.max() - channel_data.min())\n",
    "    \n",
    "    rgb_image = np.zeros((height, width, 3), dtype=np.uint8)\n",
    "    \n",
    "    for i in range(3):\n",
    "        rgb_image[:, :, i] = (normalized_data * rgb_color[i]).astype(np.uint8)\n",
    "    \n",
    "    plt.imshow(rgb_image)\n",
    "    plt.title(f\"Channel {ch + 1} - Wavelength {wavelengths[ch]:.2f} nm\")\n",
    "    plt.axis('off')\n",
    "    plt.show()\n"
   ]
  }
 ],
 "metadata": {
  "kernelspec": {
   "display_name": "Python 3",
   "language": "python",
   "name": "python3"
  },
  "language_info": {
   "codemirror_mode": {
    "name": "ipython",
    "version": 3
   },
   "file_extension": ".py",
   "mimetype": "text/x-python",
   "name": "python",
   "nbconvert_exporter": "python",
   "pygments_lexer": "ipython3",
   "version": "3.10.7"
  }
 },
 "nbformat": 4,
 "nbformat_minor": 2
}
